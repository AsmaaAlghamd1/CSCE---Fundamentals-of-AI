{
  "nbformat": 4,
  "nbformat_minor": 0,
  "metadata": {
    "colab": {
      "name": "GROUP 12 --- Fashion Apparel Detector - inc 1",
      "provenance": [],
      "collapsed_sections": []
    },
    "kernelspec": {
      "name": "python3",
      "display_name": "Python 3"
    },
    "accelerator": "GPU"
  },
  "cells": [
    {
      "cell_type": "code",
      "metadata": {
        "id": "6havkIS3fpWa",
        "colab": {
          "base_uri": "https://localhost:8080/",
          "height": 372
        },
        "outputId": "7ac66c8e-d881-44a9-e144-d77278baddd7"
      },
      "source": [
        "#system specs\n",
        "\n",
        "!nvidia-smi"
      ],
      "execution_count": null,
      "outputs": [
        {
          "output_type": "stream",
          "text": [
            "Sat Aug 22 23:25:35 2020       \n",
            "+-----------------------------------------------------------------------------+\n",
            "| NVIDIA-SMI 450.57       Driver Version: 418.67       CUDA Version: 10.1     |\n",
            "|-------------------------------+----------------------+----------------------+\n",
            "| GPU  Name        Persistence-M| Bus-Id        Disp.A | Volatile Uncorr. ECC |\n",
            "| Fan  Temp  Perf  Pwr:Usage/Cap|         Memory-Usage | GPU-Util  Compute M. |\n",
            "|                               |                      |               MIG M. |\n",
            "|===============================+======================+======================|\n",
            "|   0  Tesla T4            Off  | 00000000:00:04.0 Off |                    0 |\n",
            "| N/A   42C    P8     9W /  70W |      0MiB / 15079MiB |      0%      Default |\n",
            "|                               |                      |                 ERR! |\n",
            "+-------------------------------+----------------------+----------------------+\n",
            "                                                                               \n",
            "+-----------------------------------------------------------------------------+\n",
            "| Processes:                                                                  |\n",
            "|  GPU   GI   CI        PID   Type   Process name                  GPU Memory |\n",
            "|        ID   ID                                                   Usage      |\n",
            "|=============================================================================|\n",
            "|  No running processes found                                                 |\n",
            "+-----------------------------------------------------------------------------+\n"
          ],
          "name": "stdout"
        }
      ]
    },
    {
      "cell_type": "code",
      "metadata": {
        "id": "wv9D2zLftM0Z",
        "colab": {
          "base_uri": "https://localhost:8080/",
          "height": 141
        },
        "outputId": "d96bc90d-3c8a-488d-9b71-861ea7b003a7"
      },
      "source": [
        "!sudo apt-get install tree -qq > /dev/null"
      ],
      "execution_count": null,
      "outputs": [
        {
          "output_type": "stream",
          "text": [
            "debconf: unable to initialize frontend: Dialog\n",
            "debconf: (No usable dialog-like program is installed, so the dialog based frontend cannot be used. at /usr/share/perl5/Debconf/FrontEnd/Dialog.pm line 76, <> line 1.)\n",
            "debconf: falling back to frontend: Readline\n",
            "debconf: unable to initialize frontend: Readline\n",
            "debconf: (This frontend requires a controlling tty.)\n",
            "debconf: falling back to frontend: Teletype\n",
            "dpkg-preconfigure: unable to re-open stdin: \n"
          ],
          "name": "stdout"
        }
      ]
    },
    {
      "cell_type": "code",
      "metadata": {
        "id": "E2UQU5T0hJcL",
        "colab": {
          "base_uri": "https://localhost:8080/",
          "height": 1000
        },
        "outputId": "ac6b60e2-acfc-4fe2-dc37-f03c51189ece"
      },
      "source": [
        "!pip install torch==1.5.1+cu101 torchvision==0.6.1+cu101 -f https://download.pytorch.org/whl/torch_stable.html\n",
        "!pip install numpy==1.17\n",
        "!pip install PyYAML==5.3.1\n",
        "!pip install git+https://github.com/cocodataset/cocoapi.git#subdirectory=PythonAPI"
      ],
      "execution_count": null,
      "outputs": [
        {
          "output_type": "stream",
          "text": [
            "Looking in links: https://download.pytorch.org/whl/torch_stable.html\n",
            "Collecting torch==1.5.1+cu101\n",
            "\u001b[?25l  Downloading https://download.pytorch.org/whl/cu101/torch-1.5.1%2Bcu101-cp36-cp36m-linux_x86_64.whl (704.4MB)\n",
            "\u001b[K     |████████████████████████████████| 704.4MB 26kB/s \n",
            "\u001b[?25hCollecting torchvision==0.6.1+cu101\n",
            "\u001b[?25l  Downloading https://download.pytorch.org/whl/cu101/torchvision-0.6.1%2Bcu101-cp36-cp36m-linux_x86_64.whl (6.6MB)\n",
            "\u001b[K     |████████████████████████████████| 6.6MB 39.5MB/s \n",
            "\u001b[?25hRequirement already satisfied: numpy in /usr/local/lib/python3.6/dist-packages (from torch==1.5.1+cu101) (1.18.5)\n",
            "Requirement already satisfied: future in /usr/local/lib/python3.6/dist-packages (from torch==1.5.1+cu101) (0.16.0)\n",
            "Requirement already satisfied: pillow>=4.1.1 in /usr/local/lib/python3.6/dist-packages (from torchvision==0.6.1+cu101) (7.0.0)\n",
            "Installing collected packages: torch, torchvision\n",
            "  Found existing installation: torch 1.6.0+cu101\n",
            "    Uninstalling torch-1.6.0+cu101:\n",
            "      Successfully uninstalled torch-1.6.0+cu101\n",
            "  Found existing installation: torchvision 0.7.0+cu101\n",
            "    Uninstalling torchvision-0.7.0+cu101:\n",
            "      Successfully uninstalled torchvision-0.7.0+cu101\n",
            "Successfully installed torch-1.5.1+cu101 torchvision-0.6.1+cu101\n",
            "Collecting numpy==1.17\n",
            "\u001b[?25l  Downloading https://files.pythonhosted.org/packages/19/b9/bda9781f0a74b90ebd2e046fde1196182900bd4a8e1ea503d3ffebc50e7c/numpy-1.17.0-cp36-cp36m-manylinux1_x86_64.whl (20.4MB)\n",
            "\u001b[K     |████████████████████████████████| 20.4MB 158kB/s \n",
            "\u001b[31mERROR: datascience 0.10.6 has requirement folium==0.2.1, but you'll have folium 0.8.3 which is incompatible.\u001b[0m\n",
            "\u001b[31mERROR: albumentations 0.1.12 has requirement imgaug<0.2.7,>=0.2.5, but you'll have imgaug 0.2.9 which is incompatible.\u001b[0m\n",
            "\u001b[?25hInstalling collected packages: numpy\n",
            "  Found existing installation: numpy 1.18.5\n",
            "    Uninstalling numpy-1.18.5:\n",
            "      Successfully uninstalled numpy-1.18.5\n",
            "Successfully installed numpy-1.17.0\n"
          ],
          "name": "stdout"
        },
        {
          "output_type": "display_data",
          "data": {
            "application/vnd.colab-display-data+json": {
              "pip_warning": {
                "packages": [
                  "numpy"
                ]
              }
            }
          },
          "metadata": {
            "tags": []
          }
        },
        {
          "output_type": "stream",
          "text": [
            "Collecting PyYAML==5.3.1\n",
            "\u001b[?25l  Downloading https://files.pythonhosted.org/packages/64/c2/b80047c7ac2478f9501676c988a5411ed5572f35d1beff9cae07d321512c/PyYAML-5.3.1.tar.gz (269kB)\n",
            "\r\u001b[K     |█▏                              | 10kB 24.1MB/s eta 0:00:01\r\u001b[K     |██▍                             | 20kB 2.5MB/s eta 0:00:01\r\u001b[K     |███▋                            | 30kB 3.6MB/s eta 0:00:01\r\u001b[K     |████▉                           | 40kB 2.7MB/s eta 0:00:01\r\u001b[K     |██████                          | 51kB 3.3MB/s eta 0:00:01\r\u001b[K     |███████▎                        | 61kB 3.7MB/s eta 0:00:01\r\u001b[K     |████████▌                       | 71kB 4.0MB/s eta 0:00:01\r\u001b[K     |█████████▊                      | 81kB 4.4MB/s eta 0:00:01\r\u001b[K     |███████████                     | 92kB 4.7MB/s eta 0:00:01\r\u001b[K     |████████████▏                   | 102kB 4.5MB/s eta 0:00:01\r\u001b[K     |█████████████▍                  | 112kB 4.5MB/s eta 0:00:01\r\u001b[K     |██████████████▋                 | 122kB 4.5MB/s eta 0:00:01\r\u001b[K     |███████████████▉                | 133kB 4.5MB/s eta 0:00:01\r\u001b[K     |█████████████████               | 143kB 4.5MB/s eta 0:00:01\r\u001b[K     |██████████████████▎             | 153kB 4.5MB/s eta 0:00:01\r\u001b[K     |███████████████████▌            | 163kB 4.5MB/s eta 0:00:01\r\u001b[K     |████████████████████▊           | 174kB 4.5MB/s eta 0:00:01\r\u001b[K     |██████████████████████          | 184kB 4.5MB/s eta 0:00:01\r\u001b[K     |███████████████████████▏        | 194kB 4.5MB/s eta 0:00:01\r\u001b[K     |████████████████████████▎       | 204kB 4.5MB/s eta 0:00:01\r\u001b[K     |█████████████████████████▌      | 215kB 4.5MB/s eta 0:00:01\r\u001b[K     |██████████████████████████▊     | 225kB 4.5MB/s eta 0:00:01\r\u001b[K     |████████████████████████████    | 235kB 4.5MB/s eta 0:00:01\r\u001b[K     |█████████████████████████████▏  | 245kB 4.5MB/s eta 0:00:01\r\u001b[K     |██████████████████████████████▍ | 256kB 4.5MB/s eta 0:00:01\r\u001b[K     |███████████████████████████████▋| 266kB 4.5MB/s eta 0:00:01\r\u001b[K     |████████████████████████████████| 276kB 4.5MB/s \n",
            "\u001b[?25hBuilding wheels for collected packages: PyYAML\n",
            "  Building wheel for PyYAML (setup.py) ... \u001b[?25l\u001b[?25hdone\n",
            "  Created wheel for PyYAML: filename=PyYAML-5.3.1-cp36-cp36m-linux_x86_64.whl size=44621 sha256=436e306052c4e9e32024fdffab4d7193c9e9f168e4b8206fdb7874f168f65a1e\n",
            "  Stored in directory: /root/.cache/pip/wheels/a7/c1/ea/cf5bd31012e735dc1dfea3131a2d5eae7978b251083d6247bd\n",
            "Successfully built PyYAML\n",
            "Installing collected packages: PyYAML\n",
            "  Found existing installation: PyYAML 3.13\n",
            "    Uninstalling PyYAML-3.13:\n",
            "      Successfully uninstalled PyYAML-3.13\n",
            "Successfully installed PyYAML-5.3.1\n",
            "Collecting git+https://github.com/cocodataset/cocoapi.git#subdirectory=PythonAPI\n",
            "  Cloning https://github.com/cocodataset/cocoapi.git to /tmp/pip-req-build-lbw5pwwa\n",
            "  Running command git clone -q https://github.com/cocodataset/cocoapi.git /tmp/pip-req-build-lbw5pwwa\n",
            "Requirement already satisfied: setuptools>=18.0 in /usr/local/lib/python3.6/dist-packages (from pycocotools==2.0) (49.2.0)\n",
            "Requirement already satisfied: cython>=0.27.3 in /usr/local/lib/python3.6/dist-packages (from pycocotools==2.0) (0.29.21)\n",
            "Requirement already satisfied: matplotlib>=2.1.0 in /usr/local/lib/python3.6/dist-packages (from pycocotools==2.0) (3.2.2)\n",
            "Requirement already satisfied: pyparsing!=2.0.4,!=2.1.2,!=2.1.6,>=2.0.1 in /usr/local/lib/python3.6/dist-packages (from matplotlib>=2.1.0->pycocotools==2.0) (2.4.7)\n",
            "Requirement already satisfied: python-dateutil>=2.1 in /usr/local/lib/python3.6/dist-packages (from matplotlib>=2.1.0->pycocotools==2.0) (2.8.1)\n",
            "Requirement already satisfied: cycler>=0.10 in /usr/local/lib/python3.6/dist-packages (from matplotlib>=2.1.0->pycocotools==2.0) (0.10.0)\n",
            "Requirement already satisfied: kiwisolver>=1.0.1 in /usr/local/lib/python3.6/dist-packages (from matplotlib>=2.1.0->pycocotools==2.0) (1.2.0)\n",
            "Requirement already satisfied: numpy>=1.11 in /usr/local/lib/python3.6/dist-packages (from matplotlib>=2.1.0->pycocotools==2.0) (1.17.0)\n",
            "Requirement already satisfied: six>=1.5 in /usr/local/lib/python3.6/dist-packages (from python-dateutil>=2.1->matplotlib>=2.1.0->pycocotools==2.0) (1.15.0)\n",
            "Building wheels for collected packages: pycocotools\n",
            "  Building wheel for pycocotools (setup.py) ... \u001b[?25l\u001b[?25hdone\n",
            "  Created wheel for pycocotools: filename=pycocotools-2.0-cp36-cp36m-linux_x86_64.whl size=266492 sha256=171a0700abe6d6e6ce120346ad42105fee1aa74e4b696896c0f568651956430e\n",
            "  Stored in directory: /tmp/pip-ephem-wheel-cache-gbxcow1m/wheels/90/51/41/646daf401c3bc408ff10de34ec76587a9b3ebfac8d21ca5c3a\n",
            "Successfully built pycocotools\n",
            "Installing collected packages: pycocotools\n",
            "  Found existing installation: pycocotools 2.0.1\n",
            "    Uninstalling pycocotools-2.0.1:\n",
            "      Successfully uninstalled pycocotools-2.0.1\n",
            "Successfully installed pycocotools-2.0\n"
          ],
          "name": "stdout"
        }
      ]
    },
    {
      "cell_type": "code",
      "metadata": {
        "id": "Cv02awtqMSkv",
        "colab": {
          "base_uri": "https://localhost:8080/",
          "height": 88
        },
        "outputId": "79706fec-3956-412d-aa1a-abec096302e3"
      },
      "source": [
        "#get dataset\n",
        "!gdown --id 1uWdQ2kn25RSQITtBHa9_zayplm27IXNC"
      ],
      "execution_count": null,
      "outputs": [
        {
          "output_type": "stream",
          "text": [
            "Downloading...\n",
            "From: https://drive.google.com/uc?id=1uWdQ2kn25RSQITtBHa9_zayplm27IXNC\n",
            "To: /content/clothing.json\n",
            "\r  0% 0.00/199k [00:00<?, ?B/s]\r100% 199k/199k [00:00<00:00, 93.4MB/s]\n"
          ],
          "name": "stdout"
        }
      ]
    },
    {
      "cell_type": "markdown",
      "metadata": {
        "id": "JCTsGOXC0M4c"
      },
      "source": [
        " import all required libraries:"
      ]
    },
    {
      "cell_type": "code",
      "metadata": {
        "id": "qoy_rgWmIQwv",
        "colab": {
          "base_uri": "https://localhost:8080/",
          "height": 72
        },
        "outputId": "69815fab-027c-428e-f37d-8cb3115dd92c"
      },
      "source": [
        "from pathlib import Path\n",
        "from tqdm import tqdm\n",
        "import numpy as np\n",
        "import json\n",
        "import urllib\n",
        "import PIL.Image as Image\n",
        "import cv2\n",
        "import torch\n",
        "import torchvision\n",
        "from IPython.display import display\n",
        "from sklearn.model_selection import train_test_split\n",
        "\n",
        "import seaborn as sns\n",
        "from pylab import rcParams\n",
        "import matplotlib.pyplot as plt\n",
        "from matplotlib import rc\n",
        "import argparse\n",
        "\n",
        "import torch.distributed as dist\n",
        "import torch.nn.functional as F\n",
        "import torch.optim as optim\n",
        "import torch.optim.lr_scheduler as lr_scheduler\n",
        "import torch.utils.data\n",
        "from torch.utils.tensorboard import SummaryWriter\n",
        "\n",
        "import test  # import test.py to get mAP after each epoch\n",
        "from models.yolo import Model\n",
        "from utils import google_utils\n",
        "from utils.datasets import *\n",
        "\n"
      ],
      "execution_count": null,
      "outputs": [
        {
          "output_type": "stream",
          "text": [
            "/usr/local/lib/python3.6/dist-packages/statsmodels/tools/_testing.py:19: FutureWarning: pandas.util.testing is deprecated. Use the functions in the public API at pandas.testing instead.\n",
            "  import pandas.util.testing as tm\n"
          ],
          "name": "stderr"
        }
      ]
    },
    {
      "cell_type": "code",
      "source": [
        "#each json line contains information for an object.\n",
        "object = []\n",
        "with open(\"object.json\") as f:\n",
        "    for line in f:\n",
        "        object.append(json.loads(line))"
      ],
      "metadata": {
        "id": "dIEvOvuaOe5G"
      },
      "execution_count": null,
      "outputs": []
    },
    {
      "cell_type": "code",
      "metadata": {
        "id": "WhazKaoqQXWX"
      },
      "source": [
        "#data for picture 1\n",
        "object[0]"
      ],
      "execution_count": null,
      "outputs": []
    },
    {
      "cell_type": "code",
      "metadata": {
        "id": "GiKhCePRkyiL",
        "colab": {
          "base_uri": "https://localhost:8080/",
          "height": 177
        },
        "outputId": "d2cba4cf-430d-4f72-85de-b48d5cc9eecb"
      },
      "source": [
        "#display all\n",
        "object_classes = []\n",
        "for c in object:\n",
        "  for a in c['annotation']:\n",
        "    object_classes.extend(a['label'])\n",
        "object_classes = list(set(object_classes))\n",
        "object_classes"
      ],
      "execution_count": null,
      "outputs": [
        {
          "output_type": "execute_result",
          "data": {
            "text/plain": [
              "['Jackets',\n",
              " 'Jeans',\n",
              " 'Shirts',\n",
              " 'Shoes',\n",
              " 'Skirts',\n",
              " 'Tops',\n",
              " 'Trousers',\n",
              " 'Tshirts',\n",
              " 'sunglasses']"
            ]
          },
          "metadata": {
            "tags": []
          },
          "execution_count": 10
        }
      ]
    },
    {
      "cell_type": "markdown",
      "metadata": {
        "id": "FUv66QNZJjMb"
      },
      "source": [
        "We have 9 different categories"
      ]
    },
    {
      "cell_type": "code",
      "metadata": {
        "id": "5i8pD6JHJexe",
        "colab": {
          "base_uri": "https://localhost:8080/",
          "height": 35
        },
        "outputId": "a6016951-575f-4bfe-c0c5-79b9e8f232a2"
      },
      "source": [
        "#divide data into training and testing\n",
        "train_object, val_object = train_test_split(object, test_size=0.1)\n",
        "len(train_clothing), len(val_clothing)"
      ],
      "execution_count": null,
      "outputs": [
        {
          "output_type": "execute_result",
          "data": {
            "text/plain": [
              "(453, 51)"
            ]
          },
          "metadata": {
            "tags": []
          },
          "execution_count": 11
        }
      ]
    },
    {
      "cell_type": "code",
      "metadata": {
        "id": "Q1HCPNXsRlCS"
      },
      "source": [
        "row = train_clothing[10]\n",
        "\n",
        "obj = urllib.request.urlopen(row[\"content\"])\n",
        "obj = Image.open(obj)\n",
        "obj = obj.convert('RGB')\n",
        "\n",
        "obj.save(\"demo_image.jpeg\", \"JPEG\")"
      ],
      "execution_count": null,
      "outputs": []
    },
    {
      "cell_type": "code",
      "metadata": {
        "id": "EBVCVinxstzC",
        "colab": {
          "base_uri": "https://localhost:8080/",
          "height": 179
        },
        "outputId": "9c45d123-3910-4c59-cfb0-c2dd3ec514e7"
      },
      "source": [
        "#acquire the bounding boxes\n",
        "row\n",
        "obj = cv2.cvtColor(cv2.imread(f'demo_image.jpeg'), cv2.COLOR_BGR2RGB)\n",
        "obj.shape"
      ],
      "execution_count": null,
      "outputs": [
        {
          "output_type": "execute_result",
          "data": {
            "text/plain": [
              "{'annotation': [{'imageHeight': 312,\n",
              "   'imageWidth': 145,\n",
              "   'label': ['Tops'],\n",
              "   'notes': '',\n",
              "   'points': [{'x': 0.013793103448275862, 'y': 0.22756410256410256},\n",
              "    {'x': 1, 'y': 0.7948717948717948}]}],\n",
              " 'content': 'http://com.dataturks.a96-i23.open.s3.amazonaws.com/2c9fafb063ad2b650163b00a1ead0017/ec339ad6-6b73-406a-8971-f7ea35d47577___Data_s-top-203-red-srw-original-imaf2nfrxdzvhh3k.jpeg',\n",
              " 'extras': None}"
            ]
          },
          "metadata": {
            "tags": []
          },
          "execution_count": 13
        }
      ]
    },
    {
      "cell_type": "code",
      "metadata": {
        "id": "N2_sJMkrShko"
      },
      "source": [
        "for a in row['annotation']:\n",
        "  for label in a['label']:\n",
        "\n",
        "    w = a['imageWidth']\n",
        "    h = a['imageHeight']\n",
        "\n",
        "    points = a['points']\n",
        "    p1, p2 = points\n",
        "\n",
        "    x1, y1 = p1['x'] * w, p1['y'] * h\n",
        "    x2, y2 = p2['x'] * w, p2['y'] * h\n",
        "\n",
        "    cv2.rectangle(\n",
        "      obj,\n",
        "      (int(x1), int(y1)),\n",
        "      (int(x2), int(y2)),\n",
        "      color=(0, 255, 0),\n",
        "      thickness=2\n",
        "    )\n",
        "\n",
        "    ((label_width, label_height), _) = cv2.getTextSize(\n",
        "        label, \n",
        "        fontFace=cv2.FONT_HERSHEY_PLAIN,\n",
        "        fontScale=1.75, \n",
        "        thickness=2\n",
        "    )\n",
        "\n",
        "    cv2.rectangle(\n",
        "      obj,\n",
        "      (int(x1), int(y1)),\n",
        "      (int(x1 + label_width + label_width * 0.05), int(y1 + label_height + label_height * 0.25)),\n",
        "      color=(0, 255, 0),\n",
        "      thickness=cv2.FILLED\n",
        "    )\n",
        "\n",
        "    cv2.putText(\n",
        "      obj,\n",
        "      label,\n",
        "      org=(int(x1), int(y1 + label_height + label_height * 0.25)), # bottom left\n",
        "      fontFace=cv2.FONT_HERSHEY_PLAIN,\n",
        "      fontScale=1.75,\n",
        "      color=(255, 255, 255),\n",
        "      thickness=2\n",
        "    )"
      ],
      "execution_count": null,
      "outputs": []
    },
    {
      "cell_type": "code",
      "metadata": {
        "id": "ff9hFIgcQ3EH",
        "colab": {
          "base_uri": "https://localhost:8080/",
          "height": 575
        },
        "outputId": "4dfcc76c-c90b-4a65-c164-09c7f8202d9f"
      },
      "source": [
        "plt.imshow(obj)\n",
        "plt.axis('off');"
      ],
      "execution_count": null,
      "outputs": [
        {
          "output_type": "display_data",
          "data": {
            "image/png": "[encoded data removed]",
            "text/plain": [
              "<Figure size 1152x720 with 1 Axes>"
            ]
          },
          "metadata": {
            "tags": [],
            "image/png": {
              "width": 267,
              "height": 558
            }
          }
        }
      ]
    },
    {
      "cell_type": "code",
      "metadata": {
        "id": "bBpB0kb0ZKzh"
      },
      "source": [
        "#convert dataset into yolo format since that is more meaningful and info\n",
        "\n",
        "def create_dataset(object, categories, dataset_type):\n",
        "\n",
        "  images_path = Path(f\"clothing/images/{dataset_type}\")\n",
        "  images_path.mkdir(parents=True, exist_ok=True)\n",
        "\n",
        "  labels_path = Path(f\"clothing/labels/{dataset_type}\")\n",
        "  labels_path.mkdir(parents=True, exist_ok=True)\n",
        "\n",
        "  for img_id, row in enumerate(tqdm(object)):\n",
        "\n",
        "    image_name = f\"{img_id}.jpeg\"\n",
        "\n",
        "    obj = urllib.request.urlopen(row[\"content\"])\n",
        "    obj = Image.open(obj)\n",
        "    obj = obj.convert(\"RGB\")\n",
        "\n",
        "    obj.save(str(images_path / image_name), \"JPEG\")\n",
        "\n",
        "    label_name = f\"{img_id}.txt\"\n",
        "\n",
        "    with (labels_path / label_name).open(mode=\"w\") as label_file:\n",
        "\n",
        "      for a in row['annotation']:\n",
        "\n",
        "        for label in a['label']:\n",
        "\n",
        "          category_idx = categories.index(label)\n",
        "\n",
        "          points = a['points']\n",
        "          p1, p2 = points\n",
        "\n",
        "          x1, y1 = p1['x'], p1['y']\n",
        "          x2, y2 = p2['x'], p2['y']\n",
        "\n",
        "          bbox_width = x2 - x1\n",
        "          bbox_height = y2 - y1\n",
        "\n",
        "          label_file.write(\n",
        "            f\"{category_idx} {x1 + bbox_width / 2} {y1 + bbox_height / 2} {bbox_width} {bbox_height}\\n\"\n",
        "          )"
      ],
      "execution_count": null,
      "outputs": []
    },
    {
      "cell_type": "code",
      "metadata": {
        "id": "BCtfTtYcZI3o",
        "colab": {
          "base_uri": "https://localhost:8080/",
          "height": 52
        },
        "outputId": "77c4d4ad-c297-48f3-cad2-ef97ed0d8efc"
      },
      "source": [
        "create_dataset(train_clothing, object_classes, 'train')\n",
        "create_dataset(val_clothing, object_classes, 'val')"
      ],
      "execution_count": null,
      "outputs": [
        {
          "output_type": "stream",
          "text": [
            "100%|██████████| 453/453 [01:34<00:00,  4.79it/s]\n",
            "100%|██████████| 51/51 [00:09<00:00,  5.11it/s]\n"
          ],
          "name": "stderr"
        }
      ]
    },
    {
      "cell_type": "code",
      "metadata": {
        "id": "TDUVWaNxY1B_",
        "colab": {
          "base_uri": "https://localhost:8080/",
          "height": 177
        },
        "outputId": "899b400a-ebf3-42ae-faa2-cd27b09aabfe"
      },
      "source": [
        "!tree object -L 2"
      ],
      "execution_count": null,
      "outputs": [
        {
          "output_type": "stream",
          "text": [
            "clothing\n",
            "├── images\n",
            "│   ├── train\n",
            "│   └── val\n",
            "└── labels\n",
            "    ├── train\n",
            "    └── val\n",
            "\n",
            "6 directories, 0 files\n"
          ],
          "name": "stdout"
        }
      ]
    },
    {
      "cell_type": "code",
      "metadata": {
        "id": "xQz3fLolZS9C",
        "colab": {
          "base_uri": "https://localhost:8080/",
          "height": 35
        },
        "outputId": "5bea0826-b9b2-4f77-e99a-41dec0dcc555"
      },
      "source": [
        "!cat clothing/labels/train/0.txt"
      ],
      "execution_count": null,
      "outputs": [
        {
          "output_type": "stream",
          "text": [
            "4 0.525462962962963 0.5432692307692308 0.9027777777777778 0.9006410256410257\n"
          ],
          "name": "stdout"
        }
      ]
    },
    {
      "cell_type": "code",
      "metadata": {
        "id": "IbrsPZV4Wza1",
        "colab": {
          "base_uri": "https://localhost:8080/",
          "height": 372
        },
        "outputId": "a9a6e7f0-370b-42fc-a857-6d127327a172"
      },
      "source": [
        "!git clone https://github.com/ultralytics/yolov5\n",
        "%cd yolov5\n",
        "!git checkout ec72eea62bf5bb86b0272f2e65e413957533507f"
      ],
      "execution_count": null,
      "outputs": [
        {
          "output_type": "stream",
          "text": [
            "Cloning into 'yolov5'...\n",
            "remote: Enumerating objects: 54, done.\u001b[K\n",
            "remote: Counting objects: 100% (54/54), done.\u001b[K\n",
            "remote: Compressing objects: 100% (40/40), done.\u001b[K\n",
            "remote: Total 2327 (delta 28), reused 35 (delta 14), pack-reused 2273\u001b[K\n",
            "Receiving objects: 100% (2327/2327), 5.34 MiB | 12.60 MiB/s, done.\n",
            "Resolving deltas: 100% (1525/1525), done.\n",
            "/content/yolov5\n",
            "Note: checking out 'ec72eea62bf5bb86b0272f2e65e413957533507f'.\n",
            "\n",
            "You are in 'detached HEAD' state. You can look around, make experimental\n",
            "changes and commit them, and you can discard any commits you make in this\n",
            "state without impacting any branches by performing another checkout.\n",
            "\n",
            "If you want to create a new branch to retain commits you create, you may\n",
            "do so (now or later) by using -b with the checkout command again. Example:\n",
            "\n",
            "  git checkout -b <new-branch-name>\n",
            "\n",
            "HEAD is now at ec72eea Merge remote-tracking branch 'origin/master'\n"
          ],
          "name": "stdout"
        }
      ]
    },
    {
      "cell_type": "code",
      "metadata": {
        "id": "EidVMrZgEteg",
        "colab": {
          "base_uri": "https://localhost:8080/",
          "height": 159
        },
        "outputId": "43c1d562-f9e0-4aeb-96f5-9070353e4e86"
      },
      "source": [
        "!gdown --id 1ZycPS5Ft_0vlfgHnLsfvZPhcH6qOAqBO -O data/clothing.yaml\n",
        "!gdown --id 1czESPsKbOWZF7_PkCcvRfTiUUJfpx12i -O models/yolov5x.yaml"
      ],
      "execution_count": null,
      "outputs": [
        {
          "output_type": "stream",
          "text": [
            "Downloading...\n",
            "From: https://drive.google.com/uc?id=1ZycPS5Ft_0vlfgHnLsfvZPhcH6qOAqBO\n",
            "To: /content/yolov5/data/clothing.yaml\n",
            "100% 172/172 [00:00<00:00, 260kB/s]\n",
            "Downloading...\n",
            "From: https://drive.google.com/uc?id=1czESPsKbOWZF7_PkCcvRfTiUUJfpx12i\n",
            "To: /content/yolov5/models/yolov5x.yaml\n",
            "100% 1.58k/1.58k [00:00<00:00, 1.40MB/s]\n"
          ],
          "name": "stdout"
        }
      ]
    },
    {
      "cell_type": "code",
      "metadata": {
        "id": "FODv67iUi4M3"
      },
      "source": [
        "!rm train.py"
      ],
      "execution_count": null,
      "outputs": []
    },
    {
      "cell_type": "code",
      "metadata": {
        "id": "Qj0j2quPi7_o",
        "colab": {
          "base_uri": "https://localhost:8080/",
          "height": 35
        },
        "outputId": "51eccc60-8797-4c89-e76c-90812513fdcd"
      },
      "source": [
        "%%writefile train.py\n",
        "\n",
        "from utils.utils import *\n",
        "prec = True\n",
        "try:  \n",
        "    from apex import amp\n",
        "except:\n",
        "    print(' https://github.com/NVIDIA/apex')\n",
        "    prec = False  \n",
        "\n",
        "dir_wei = 'weights' + os.sep  # weights dir\n",
        "os.makedirs(dir_wei, exist_ok=True)\n",
        "last = dir_wei + 'last.pt'\n",
        "best = dir_wei + 'best.pt'\n",
        "final_res = 'results.txt'\n",
        "\n",
        "\n",
        "Para = {'lr0': 0.01,  'momentum': 0.937,  'weight_decay': 5e-4, 'giou': 0.05,'cls': 0.58,'cls_pw': 1.0, 'obj': 1.0, 'obj_pw': 1.0, 'anchor_t': 4.0,'fl_gamma': 0.0,\n",
        "       'hsv_h': 0.014, 'hsv_s': 0.68,'hsv_v': 0.36, 'degrees': 0.0,'translate': 0.0, 'scale': 0.5, 'shear': 0.0}\n",
        "print(Para)\n",
        "\n",
        "f = glob.glob('Para*.txt')\n",
        "if f:\n",
        "    print('Using %s' % f[0])\n",
        "    for File, L in zip(Para.keys(), np.loadtxt(f[0])):\n",
        "        Para[ File] = L\n",
        "\n",
        "if Para['fl_gamma']:\n",
        "    print('Using FocalLoss(gamma=%g)' % Para['fl_gamma'])\n",
        "\n",
        "\n",
        "\n"
      ],
      "execution_count": null,
      "outputs": [
        {
          "output_type": "stream",
          "text": [
            "Writing train.py\n"
          ],
          "name": "stdout"
        }
      ]
    },
    {
      "cell_type": "code",
      "source": [
        "def train(Para):\n",
        "    epochs = opt.epochs  # 300\n",
        "    batch_size = opt.batch_size  # 64\n",
        "    weights = opt.weights  # initial training weights\n",
        "\n",
        "    # Configure\n",
        "    init_seeds(1)\n",
        "    with open(opt.data) as f:\n",
        "        data_dict = yaml.load(f, Loader=yaml.FullLoader)  # model dict\n",
        "    train_path = data_dict['train']\n",
        "    test_path = data_dict['val']\n",
        "    nc = 1 if opt.single_cls else int(data_dict['nc'])  # number of classes\n",
        "\n",
        "    # Remove previous results\n",
        "    for f in glob.glob('*_batch*.jpg') + glob.glob(final_res):\n",
        "        os.remove(f)\n",
        "\n",
        "    # Create model\n",
        "    model = Model(opt.cfg).to(device)\n",
        "    assert model.md['nc'] == nc, '%s nc=%g classes but %s nc=%g classes' % (opt.data, nc, opt.cfg, model.md['nc'])\n",
        "\n",
        "    # Image sizes\n",
        "    gs = int(max(model.stride))  # grid size (max stride)\n",
        "    imgsz, imgsz_test = [check_img_size(x, gs) for x in opt.img_size]  # verify imgsz are gs-multiples\n",
        "\n",
        "    # Optimizer\n",
        "    nbs = 64  # nominal batch size\n",
        "    accumulate = max(round(nbs / batch_size), 1)  # accumulate loss before optimizing\n",
        "    Para['weight_decay'] *= batch_size * accumulate / nbs  # scale weight_decay\n",
        "    pg0, pg1, pg2 = [], [], []  # optimizer parameter groups\n",
        "    for  File, v in model.named_parameters():\n",
        "        if v.requires_grad:\n",
        "            if '.bias' in k:\n",
        "                pg2.append(v)  # biases\n",
        "            elif '.weight' in k and '.bn' not in k:\n",
        "                pg1.append(v)  # apply weight decay\n",
        "            else:\n",
        "                pg0.append(v)  # all else\n",
        "\n",
        "    optimizer = optim.Adam(pg0, lr=Para['lr0']) if opt.adam else \\\n",
        "        optim.SGD(pg0, lr=Para['lr0'], momentum=Para['momentum'], nesterov=True)\n",
        "    optimizer.add_param_group({'params': pg1, 'weight_decay': Para['weight_decay']})  # add pg1 with weight_decay\n",
        "    optimizer.add_param_group({'params': pg2})  # add pg2 (biases)\n",
        "    print('Optimizer groups: %g .bias, %g conv.weight, %g other' % (len(pg2), len(pg1), len(pg0)))\n",
        "    del pg0, pg1, pg2\n",
        "\n",
        "    # Load Model\n",
        "    google_utils.attempt_download(weights)\n",
        "    start_epoch, best_fitness = 0, 0.0\n",
        "    if weights.endswith('.pt'):  # pytorch format\n",
        "        ckpt = torch.load(weights, map_location=device)  # load checkpoint\n",
        "\n",
        "        # load optimizer\n",
        "        if ckpt['optimizer'] is not None:\n",
        "            optimizer.load_state_dict(ckpt['optimizer'])\n",
        "            best_fitness = ckpt['best_fitness']\n",
        "\n",
        "        # load results\n",
        "        if ckpt.get('training_results') is not None:\n",
        "            with open(final_res, 'w') as file:\n",
        "                file.write(ckpt['training_results'])  # write results.txt\n",
        "\n",
        "        start_epoch = ckpt['epoch'] + 1\n",
        "        del ckpt\n",
        "\n",
        "    # Mixed precision training https://github.com/NVIDIA/apex\n",
        "    if prec:\n",
        "        model, optimizer = amp.initialize(model, optimizer, opt_level='O1', verbosity=0)\n",
        "\n",
        "    # Scheduler https://arxiv.org/pdf/1812.01187.pdf\n",
        "    lf = lambda x: (((1 + math.cos(x * math.pi / epochs)) / 2) ** 1.0) * 0.9 + 0.1  # cosine\n",
        "    scheduler = lr_scheduler.LambdaLR(optimizer, lr_lambda=lf)\n",
        "    scheduler.last_epoch = start_epoch - 1  # do not move\n",
        "    # https://discuss.pytorch.org/t/a-problem-occured-when-resuming-an-optimizer/28822\n",
        "    # plot_lr_scheduler(optimizer, scheduler, epochs)\n",
        "\n",
        "    # Initialize distributed training\n",
        "    if device.type != 'cpu' and torch.cuda.device_count() > 1 and torch.distributed.is_available():\n",
        "        dist.init_process_group(backend='nccl',  # distributed backend\n",
        "                                init_method='tcp://127.0.0.1:9999',  # init method\n",
        "                                world_size=1,  # number of nodes\n",
        "                                rank=0)  # node rank\n",
        "        model = torch.nn.parallel.DistributedDataParallel(model)\n",
        "        # pip install torch==1.4.0+cu100 torchvision==0.5.0+cu100 -f https://download.pytorch.org/whl/torch_stable.html\n",
        "\n",
        "    # Dataset\n",
        "    dataset = LoadImagesAndLabels(train_path, imgsz, batch_size,\n",
        "                                  augment=True,\n",
        "                                  Para=Para,  # augmentation hyperparameters\n",
        "                                  rect=opt.rect,  # rectangular training\n",
        "                                  cache_images=opt.cache_images,\n",
        "                                  single_cls=opt.single_cls)\n",
        "    mlc = np.concatenate(dataset.labels, 0)[:, 0].max()  # max label class\n",
        "    assert mlc < nc, 'Label class %g exceeds nc=%g in %s. Correct your labels or your model.' % (mlc, nc, opt.cfg)\n",
        "\n",
        "    # Dataloader\n",
        "    batch_size = min(batch_size, len(dataset))\n",
        "    nw = min([os.cpu_count(), batch_size if batch_size > 1 else 0, 8])  # number of workers\n",
        "    dataloader = torch.utils.data.DataLoader(dataset,\n",
        "                                             batch_size=batch_size,\n",
        "                                             num_workers=nw,\n",
        "                                             shuffle=not opt.rect,  # Shuffle=True unless rectangular training is used\n",
        "                                             pin_memory=True,\n",
        "                                             collate_fn=dataset.collate_fn)\n",
        "\n",
        "    # Testloader\n",
        "    testloader = torch.utils.data.DataLoader(LoadImagesAndLabels(test_path, imgsz_test, batch_size,\n",
        "                                                                 Para=Para,\n",
        "                                                                 rect=True,\n",
        "                                                                 cache_images=opt.cache_images,\n",
        "                                                                 single_cls=opt.single_cls),\n",
        "                                             batch_size=batch_size,\n",
        "                                             num_workers=nw,\n",
        "                                             pin_memory=True,\n",
        "                                             collate_fn=dataset.collate_fn)\n",
        "\n",
        "    # Model parameters\n",
        "    Para['cls'] *= nc / 80.  # scale coco-tuned Para['cls'] to current dataset\n",
        "    model.nc = nc  # attach number of classes to model\n",
        "    model.Para = Para  # attach hyperparameters to model\n",
        "    model.gr = 1.0  # giou loss ratio (obj_loss = 1.0 or giou)\n",
        "    model.class_weights = labels_to_class_weights(dataset.labels, nc).to(device)  # attach class weights\n",
        "    model.names = data_dict['names']\n",
        "\n",
        "    # Class frequency\n",
        "    labels = np.concatenate(dataset.labels, 0)\n",
        "    c = torch.tensor(labels[:, 0])  # classes\n",
        "    # cf = torch.bincount(c.long(), minlength=nc) + 1.\n",
        "    # model._initialize_biases(cf.to(device))\n",
        "    if summ_write:\n",
        "        plot_labels(labels)\n",
        "        summ_write.add_histogram('classes', c, 0)\n",
        "\n",
        "    # Check anchors\n",
        "    if not opt.noautoanchor:\n",
        "        check_anchors(dataset, model=model, thr=Para['anchor_t'], imgsz=imgsz)\n",
        "\n",
        "    # Exponential moving average\n",
        "    ema = torch_utils.ModelEMA(model)\n",
        "\n",
        "    # Start training\n",
        "    t0 = time.time()\n",
        "    nb = len(dataloader)  # number of batches\n",
        "    n_burn = max(3 * nb, 1e3)  # burn-in iterations, max(3 epochs, 1k iterations)\n",
        "    maps = np.zeros(nc)  # mAP per class\n",
        "    results = (0, 0, 0, 0, 0, 0, 0)  # 'P', 'R', 'mAP', 'F1', 'val GIoU', 'val Objectness', 'val Classification'\n",
        "    print('Image sizes %g train, %g test' % (imgsz, imgsz_test))\n",
        "    print('Using %g dataloader workers' % nw)\n",
        "    print('Starting training for %g epochs...' % epochs)\n",
        "    # torch.autograd.set_detect_anomaly(True)\n",
        "    for epoch in range(start_epoch, epochs):  # epoch ------------------------------------------------------------------\n",
        "        model.train()\n",
        "\n",
        "        # Update image weights (optional)\n",
        "        if dataset.image_weights:\n",
        "            w = model.class_weights.cpu().numpy() * (1 - maps) ** 2  # class weights\n",
        "            image_weights = labels_to_image_weights(dataset.labels, nc=nc, class_weights=w)\n",
        "            dataset.indices = random.choices(range(dataset.n), weights=image_weights, k=dataset.n)  # rand weighted idx\n",
        "\n",
        "        mloss = torch.zeros(4, device=device)  # mean losses\n",
        "        print(('\\n' + '%10s' * 8) % ('Epoch', 'gpu_mem', 'GIoU', 'obj', 'cls', 'total', 'targets', 'img_size'))\n",
        "        pbar = tqdm(enumerate(dataloader), total=nb)  # progress bar\n",
        "        for i, (imgs, targets, paths, _) in pbar:  # batch -------------------------------------------------------------\n",
        "            ni = i + nb * epoch  # number integrated batches (since train start)\n",
        "            imgs = imgs.to(device).float() / 255.0  # uint8 to float32, 0 - 255 to 0.0 - 1.0\n",
        "\n",
        "            # Burn-in\n",
        "            if ni <= n_burn:\n",
        "                xi = [0, n_burn]  # x interp\n",
        "                # model.gr = np.interp(ni, xi, [0.0, 1.0])  # giou loss ratio (obj_loss = 1.0 or giou)\n",
        "                accumulate = max(1, np.interp(ni, xi, [1, nbs / batch_size]).round())\n",
        "                for j, x in enumerate(optimizer.param_groups):\n",
        "                    # bias lr falls from 0.1 to lr0, all other lrs rise from 0.0 to lr0\n",
        "                    x['lr'] = np.interp(ni, xi, [0.1 if j == 2 else 0.0, x['initial_lr'] * lf(epoch)])\n",
        "                    if 'momentum' in x:\n",
        "                        x['momentum'] = np.interp(ni, xi, [0.9, Para['momentum']])\n",
        "\n",
        "            # Multi-scale\n",
        "            if opt.multi_scale:\n",
        "                sz = random.randrange(imgsz * 0.5, imgsz * 1.5 + gs) // gs * gs  # size\n",
        "                sf = sz / max(imgs.shape[2:])  # scale factor\n",
        "                if sf != 1:\n",
        "                    ns = [math.ceil(x * sf / gs) * gs for x in imgs.shape[2:]]  # new shape (stretched to gs-multiple)\n",
        "                    imgs = F.interpolate(imgs, size=ns, mode='bilinear', align_corners=False)\n",
        "\n",
        "            # Forward\n",
        "            pred = model(imgs)\n",
        "\n",
        "            # Loss\n",
        "            loss, loss_items = compute_loss(pred, targets.to(device), model)\n",
        "            if not torch.isfinite(loss):\n",
        "                print('WARNING: non-finite loss, ending training ', loss_items)\n",
        "                return results\n",
        "\n",
        "            # Backward\n",
        "            if prec:\n",
        "                with amp.scale_loss(loss, optimizer) as scaled_loss:\n",
        "                    scaled_loss.backward()\n",
        "            else:\n",
        "                loss.backward()\n",
        "\n",
        "            # Optimize\n",
        "            if ni % accumulate == 0:\n",
        "                optimizer.step()\n",
        "                optimizer.zero_grad()\n",
        "                ema.update(model)\n",
        "\n",
        "            # Print\n",
        "            mloss = (mloss * i + loss_items) / (i + 1)  # update mean losses\n",
        "            mem = '%.3gG' % (torch.cuda.memory_cached() / 1E9 if torch.cuda.is_available() else 0)  # (GB)\n",
        "            s = ('%10s' * 2 + '%10.4g' * 6) % (\n",
        "                '%g/%g' % (epoch, epochs - 1), mem, *mloss, targets.shape[0], imgs.shape[-1])\n",
        "            pbar.set_description(s)\n",
        "\n",
        "            # Plot\n",
        "            if ni < 3:\n",
        "                f = 'train_batch%g.jpg' % i  # filename\n",
        "                res = plot_images(images=imgs, targets=targets, paths=paths, fname=f)\n",
        "                if summ_write:\n",
        "                    summ_write.add_image(f, res, dataformats='HWC', global_step=epoch)\n",
        "                    # summ_write.add_graph(model, imgs)  # add model to tensorboard\n",
        "\n",
        "            # end batch ------------------------------------------------------------------------------------------------\n",
        "\n",
        "        # Scheduler\n",
        "        scheduler.step()\n",
        "\n",
        "        # mAP\n",
        "        ema.update_attr(model)\n",
        "        final_epoch = epoch + 1 == epochs\n",
        "        if not opt.notest or final_epoch:  # Calculate mAP\n",
        "            results, maps, times = test.test(opt.data,\n",
        "                                             batch_size=batch_size,\n",
        "                                             imgsz=imgsz_test,\n",
        "                                             save_json=final_epoch and opt.data.endswith(os.sep + 'coco.yaml'),\n",
        "                                             model=ema.ema,\n",
        "                                             single_cls=opt.single_cls,\n",
        "                                             dataloader=testloader)\n",
        "\n",
        "        # Write\n",
        "        with open(final_res, 'a') as f:\n",
        "            f.write(s + '%10.4g' * 7 % results + '\\n')  # P, R, mAP, F1, test_losses=(GIoU, obj, cls)\n",
        "        if len(opt.name) and opt.bucket:\n",
        "            os.system('gsutil cp results.txt gs://%s/results/results%s.txt' % (opt.bucket, opt.name))\n",
        "\n",
        "        # Tensorboard\n",
        "        if summ_write:\n",
        "            tags = ['train/giou_loss', 'train/obj_loss', 'train/cls_loss',\n",
        "                    'metrics/precision', 'metrics/recall', 'metrics/mAP_0.5', 'metrics/F1',\n",
        "                    'val/giou_loss', 'val/obj_loss', 'val/cls_loss']\n",
        "            for x, tag in zip(list(mloss[:-1]) + list(results), tags):\n",
        "                summ_write.add_scalar(tag, x, epoch)\n",
        "\n",
        "        # Update best mAP\n",
        "        fi = fitness(np.array(results).reshape(1, -1))  # fitness_i = weighted combination of [P, R, mAP, F1]\n",
        "        if fi > best_fitness:\n",
        "            best_fitness = fi\n",
        "\n",
        "        # Save model\n",
        "        save = (not opt.nosave) or (final_epoch and not opt.evolve)\n",
        "        if save:\n",
        "            with open(final_res, 'r') as f:  # create checkpoint\n",
        "                ckpt = {'epoch': epoch,\n",
        "                        'best_fitness': best_fitness,\n",
        "                        'training_results': f.read(),\n",
        "                        'model': ema.ema.module if hasattr(model, 'module') else ema.ema,\n",
        "                        'optimizer': None if final_epoch else optimizer.state_dict()}\n",
        "\n",
        "            # Save last, best and delete\n",
        "            torch.save(ckpt, last)\n",
        "            if (best_fitness == fi) and not final_epoch:\n",
        "                torch.save(ckpt, best)\n",
        "            del ckpt\n",
        "\n",
        "        # end epoch ----------------------------------------------------------------------------------------------------\n",
        "    # end training\n",
        "\n",
        "    n = opt.name\n",
        "    if len(n):\n",
        "        n = '_' + n if not n.isnumeric() else n\n",
        "        fresults, flast, fbest = 'results%s.txt' % n, dir_wei + 'last%s.pt' % n, dir_wei + 'best%s.pt' % n\n",
        "        for f1, f2 in zip([dir_wei + 'last.pt', dir_wei + 'best.pt', 'results.txt'], [flast, fbest, fresults]):\n",
        "            if os.path.exists(f1):\n",
        "                os.rename(f1, f2)  # rename\n",
        "                ispt = f2.endswith('.pt')  # is *.pt\n",
        "                strip_optimizer(f2) if ispt else None  # strip optimizer\n",
        "                os.system('gsutil cp %s gs://%s/weights' % (f2, opt.bucket)) if opt.bucket and ispt else None  # upload\n",
        "\n",
        "    if not opt.evolve:\n",
        "        plot_results()  # save as results.png\n",
        "    print('%g epochs completed in %.3f hours.\\n' % (epoch - start_epoch + 1, (time.time() - t0) / 3600))\n",
        "    dist.destroy_process_group() if device.type != 'cpu' and torch.cuda.device_count() > 1 else None\n",
        "    torch.cuda.empty_cache()\n",
        "    return results\n"
      ],
      "metadata": {
        "id": "QHpt9811_dW0"
      },
      "execution_count": null,
      "outputs": []
    },
    {
      "cell_type": "code",
      "source": [
        "if __name__ == '__main__':\n",
        "    check_git_status()\n",
        "    parser = argparse.ArgumentParser()\n",
        "    parser.add_argument('--epochs', type=int, default=300)\n",
        "    parser.add_argument('--batch-size', type=int, default=16)\n",
        "    parser.add_argument('--cfg', type=str, default='models/yolov5s.yaml', help='*.cfg path')\n",
        "    parser.add_argument('--data', type=str, default='data/coco128.yaml', help='*.data path')\n",
        "    parser.add_argument('--img-size', nargs='+', type=int, default=[640, 640], help='train,test sizes')\n",
        "    parser.add_argument('--rect', action='store_true', help='rectangular training')\n",
        "    parser.add_argument('--resume', action='store_true', help='resume training from last.pt')\n",
        "    parser.add_argument('--nosave', action='store_true', help='only save final checkpoint')\n",
        "    parser.add_argument('--notest', action='store_true', help='only test final epoch')\n",
        "    parser.add_argument('--noautoanchor', action='store_true', help='disable autoanchor check')\n",
        "    parser.add_argument('--evolve', action='store_true', help='evolve hyperparameters')\n",
        "    parser.add_argument('--bucket', type=str, default='', help='gsutil bucket')\n",
        "    parser.add_argument('--cache-images', action='store_true', help='cache images for faster training')\n",
        "    parser.add_argument('--weights', type=str, default='', help='initial weights path')\n",
        "    parser.add_argument('--name', default='', help='renames results.txt to results_name.txt if supplied')\n",
        "    parser.add_argument('--device', default='', help='cuda device, i.e. 0 or 0,1,2,3 or cpu')\n",
        "    parser.add_argument('--adam', action='store_true', help='use adam optimizer')\n",
        "    parser.add_argument('--multi-scale', action='store_true', help='vary img-size +/- 50%')\n",
        "    parser.add_argument('--single-cls', action='store_true', help='train as single-class dataset')\n",
        "    opt = parser.parse_args()\n",
        "    opt.weights = last if opt.resume else opt.weights\n",
        "    opt.cfg = check_file(opt.cfg)  \n",
        "    opt.data = check_file(opt.data)  \n",
        "    print(opt)\n",
        "    opt.img_size.extend([opt.img_size[-1]] * (2 - len(opt.img_size)))  # extend to 2 sizes (train, test)\n",
        "    device = torch_utils.select_device(opt.device, apex=prec, batch_size=opt.batch_size)\n",
        "    if device.type == 'cpu':\n",
        "        prec = False\n",
        "\n",
        "    # Train\n",
        "    if not opt.evolve:\n",
        "        summ_write = SummaryWriter(comment=opt.name)\n",
        "        print(' view http://localhost:6006/')\n",
        "        train(Para)\n",
        "\n",
        " \n",
        "    else:\n",
        "        summ_write = None\n",
        "        opt.notest, opt.nosave = True, True  # only test/save final epoch\n",
        "        if opt.bucket:\n",
        "            os.system('gsutil cp gs://%s/evolve.txt .' % opt.bucket)  # download evolve.txt if exists\n",
        "\n",
        "        for _ in range(10):  # generations to evolve\n",
        "            if os.path.exists('evolve.txt'):  # if evolve.txt exists: select best hyps and mutate\n",
        "                # Select parent(s)\n",
        "                parent = 'single'  # parent selection method: 'single' or 'weighted'\n",
        "                x = np.loadtxt('evolve.txt', ndmin=2)\n",
        "                n = min(5, len(x))  \n",
        "                x = x[np.argsort(-fitness(x))][:n]  \n",
        "                w = fitness(x) - fitness(x).min() \n",
        "                if parent == 'single' or len(x) == 1:\n",
        "                    # x = x[random.randint(0, n - 1)]  # random selection\n",
        "                    x = x[random.choices(range(n), weights=w)[0]]  \n",
        "                elif parent == 'weighted':\n",
        "                    x = (x * w.reshape(n, 1)).sum(0) / w.sum()  \n",
        "\n",
        "                # Mutate\n",
        "                mp, s = 0.9, 0.2  \n",
        "                npr = np.random\n",
        "                npr.seed(int(time.time()))\n",
        "                arr = np.array([1, 1, 1, 1, 1, 1, 1, 0, .1, 1, 0, 1, 1, 1, 1, 1, 1, 1])  \n",
        "                leg = len(arr)\n",
        "                val = np.ones(leg)\n",
        "                while all(val == 1):  \n",
        "                    val = (arr * (npr.random(ng) < mp) * npr.randn(ng) * npr.random() * s + 1).clip(0.3, 3.0)\n",
        "                for i, k in enumerate(Para.keys()):  # plt.hist(v.ravel(), 300)\n",
        "                    Para[k] = x[i + 7] * val[i]  \n",
        "\n",
        "            # Clip to limits\n",
        "            keys = ['lr0', 'iou_t', 'momentum', 'weight_decay', 'hsv_s', 'hsv_v', 'translate', 'scale', 'fl_gamma']\n",
        "            limits = [(1e-5, 1e-2), (0.00, 0.70), (0.60, 0.98), (0, 0.001), (0, .9), (0, .9), (0, .9), (0, .9), (0, 3)]\n",
        "            for  File, L in zip(keys, limits):\n",
        "                Para[k] = np.clip(Para[k], val[0], val[1])\n",
        "\n",
        "            # Train mutation\n",
        "            results = train(Para.copy())\n",
        "\n",
        "            # Write mutation results\n",
        "            print_mutation(Para, results, opt.bucket)\n",
        "\n",
        "            # Plot results\n",
        "            # plot_evolution_results(Para)"
      ],
      "metadata": {
        "id": "h-NfivCv6z-0"
      },
      "execution_count": null,
      "outputs": []
    },
    {
      "cell_type": "code",
      "metadata": {
        "id": "21XV3yUgi_1_",
        "colab": {
          "base_uri": "https://localhost:8080/",
          "height": 1000
        },
        "outputId": "23f7789e-c874-4d7e-820b-68c2370d07a2"
      },
      "source": [
        "#training\n",
        "\n",
        "!python train.py --obj 640 --batch 4 --epochs 10 \\\n",
        "  --data ./data/clothing.yaml --cfg ./models/yolov5x.yaml --weights yolov5x.pt \\\n",
        "  --name yolov5x_clothing --cache"
      ],
      "execution_count": null,
      "outputs": [
        {
          "output_type": "stream",
          "text": [
            "Apex recommended for faster mixed precision training: https://github.com/NVIDIA/apex\n",
            "{'lr0': 0.01, 'momentum': 0.937, 'weight_decay': 0.0005, 'giou': 0.05, 'cls': 0.58, 'cls_pw': 1.0, 'obj': 1.0, 'obj_pw': 1.0, 'iou_t': 0.2, 'anchor_t': 4.0, 'fl_gamma': 0.0, 'hsv_h': 0.014, 'hsv_s': 0.68, 'hsv_v': 0.36, 'degrees': 0.0, 'translate': 0.0, 'scale': 0.5, 'shear': 0.0}\n",
            "Namespace(adam=False, batch_size=4, bucket='', cache_images=True, cfg='./models/yolov5x.yaml', data='./data/clothing.yaml', device='', epochs=10, evolve=False, img_size=[640], multi_scale=False, name='yolov5x_clothing', noautoanchor=False, nosave=False, notest=False, rect=False, resume=False, single_cls=False, weights='yolov5x.pt')\n",
            "Using CUDA device0 _CudaDeviceProperties(name='Tesla T4', total_memory=15079MB)\n",
            "\n",
            "2020-08-22 23:30:24.579080: I tensorflow/stream_executor/platform/default/dso_loader.cc:48] Successfully opened dynamic library libcudart.so.10.1\n",
            "Start Tensorboard with \"tensorboard --logdir=runs\", view at http://localhost:6006/\n",
            "\n",
            "              from  n    params  module                                  arguments                     \n",
            "  0             -1  1      8800  models.common.Focus                     [3, 80, 3]                    \n",
            "  1             -1  1    115520  models.common.Conv                      [80, 160, 3, 2]               \n",
            "  2             -1  1    315680  models.common.BottleneckCSP             [160, 160, 4]                 \n",
            "  3             -1  1    461440  models.common.Conv                      [160, 320, 3, 2]              \n",
            "  4             -1  1   3311680  models.common.BottleneckCSP             [320, 320, 12]                \n",
            "  5             -1  1   1844480  models.common.Conv                      [320, 640, 3, 2]              \n",
            "  6             -1  1  13228160  models.common.BottleneckCSP             [640, 640, 12]                \n",
            "  7             -1  1   7375360  models.common.Conv                      [640, 1280, 3, 2]             \n",
            "  8             -1  1   4099840  models.common.SPP                       [1280, 1280, [5, 9, 13]]      \n",
            "  9             -1  1  20087040  models.common.BottleneckCSP             [1280, 1280, 4, False]        \n",
            " 10             -1  1    820480  models.common.Conv                      [1280, 640, 1, 1]             \n",
            " 11             -1  1         0  torch.nn.modules.upsampling.Upsample    [None, 2, 'nearest']          \n",
            " 12        [-1, 6]  1         0  models.common.Concat                    [1]                           \n",
            " 13             -1  1   5435520  models.common.BottleneckCSP             [1280, 640, 4, False]         \n",
            " 14             -1  1    205440  models.common.Conv                      [640, 320, 1, 1]              \n",
            " 15             -1  1         0  torch.nn.modules.upsampling.Upsample    [None, 2, 'nearest']          \n",
            " 16        [-1, 4]  1         0  models.common.Concat                    [1]                           \n",
            " 17             -1  1   1360960  models.common.BottleneckCSP             [640, 320, 4, False]          \n",
            " 18             -1  1     13482  torch.nn.modules.conv.Conv2d            [320, 42, 1, 1]               \n",
            " 19             -2  1    922240  models.common.Conv                      [320, 320, 3, 2]              \n",
            " 20       [-1, 14]  1         0  models.common.Concat                    [1]                           \n",
            " 21             -1  1   5025920  models.common.BottleneckCSP             [640, 640, 4, False]          \n",
            " 22             -1  1     26922  torch.nn.modules.conv.Conv2d            [640, 42, 1, 1]               \n",
            " 23             -2  1   3687680  models.common.Conv                      [640, 640, 3, 2]              \n",
            " 24       [-1, 10]  1         0  models.common.Concat                    [1]                           \n",
            " 25             -1  1  20087040  models.common.BottleneckCSP             [1280, 1280, 4, False]        \n",
            " 26             -1  1     53802  torch.nn.modules.conv.Conv2d            [1280, 42, 1, 1]              \n",
            " 27   [-1, 22, 18]  1         0  models.yolo.Detect                      [9, [[116, 90, 156, 198, 373, 326], [30, 61, 62, 45, 59, 119], [10, 13, 16, 30, 33, 23]]]\n",
            "Model Summary: 407 layers, 8.84875e+07 parameters, 8.84875e+07 gradients\n",
            "\n",
            "Optimizer groups: 134 .bias, 142 conv.weight, 131 other\n",
            "  % Total    % Received % Xferd  Average Speed   Time    Time     Time  Current\n",
            "                                 Dload  Upload   Total   Spent    Left  Speed\n",
            "100   408    0   408    0     0   2914      0 --:--:-- --:--:-- --:--:--  2914\n",
            "  0     0    0     0    0     0      0      0 --:--:-- --:--:-- --:--:--     0\n",
            "  0     0    0     0    0     0      0      0 --:--:-- --:--:-- --:--:--     0\n",
            "100  170M    0  170M    0     0  67.9M      0 --:--:--  0:00:02 --:--:--  108M\n",
            "Downloading https://drive.google.com/uc?export=download&id=1mM8aZJlWTxOg7BZJvNUMrTnA2AbeCVzS as yolov5x.pt... Done (2.9s)\n",
            "Reading image shapes: 100% 453/453 [00:00<00:00, 12758.23it/s]\n",
            "Caching labels ../clothing/labels/train (453 found, 0 missing, 0 empty, 0 duplicate, for 453 images): 100% 453/453 [00:00<00:00, 11603.74it/s]\n",
            "Caching images (0.4GB): 100% 453/453 [00:00<00:00, 619.44it/s]\n",
            "Reading image shapes: 100% 51/51 [00:00<00:00, 13970.06it/s]\n",
            "Caching labels ../clothing/labels/val (51 found, 0 missing, 0 empty, 0 duplicate, for 51 images): 100% 51/51 [00:00<00:00, 10989.44it/s]\n",
            "Caching images (0.0GB): 100% 51/51 [00:00<00:00, 577.89it/s]\n",
            "\n",
            "Analyzing anchors... Best Possible Recall (BPR) = 0.9978\n",
            "Image sizes 640 train, 640 test\n",
            "Using 2 dataloader workers\n",
            "Starting training for 10 epochs...\n",
            "\n",
            "     Epoch   gpu_mem      GIoU       obj       cls     total   targets  img_size\n",
            "       0/9     9.19G   0.06117   0.04786   0.04858    0.1576         3       640: 100% 114/114 [01:33<00:00,  1.22it/s]\n",
            "               Class      Images     Targets           P           R      mAP@.5  mAP@.5:.95: 100% 13/13 [00:11<00:00,  1.11it/s]\n",
            "                 all          51          51        0.07       0.113      0.0351     0.00495\n",
            "\n",
            "     Epoch   gpu_mem      GIoU       obj       cls     total   targets  img_size\n",
            "       1/9     9.23G   0.04969   0.04908     0.046    0.1448         3       640: 100% 114/114 [01:28<00:00,  1.28it/s]\n",
            "               Class      Images     Targets           P           R      mAP@.5  mAP@.5:.95: 100% 13/13 [00:02<00:00,  5.37it/s]\n",
            "                 all          51          51     0.00506       0.135      0.0256     0.00912\n",
            "\n",
            "     Epoch   gpu_mem      GIoU       obj       cls     total   targets  img_size\n",
            "       2/9     9.23G   0.04758   0.04975   0.04607    0.1434         4       640: 100% 114/114 [01:28<00:00,  1.29it/s]\n",
            "               Class      Images     Targets           P           R      mAP@.5  mAP@.5:.95: 100% 13/13 [00:02<00:00,  5.24it/s]\n",
            "                 all          51          51      0.0103       0.206      0.0165     0.00525\n",
            "\n",
            "     Epoch   gpu_mem      GIoU       obj       cls     total   targets  img_size\n",
            "       3/9     9.23G   0.04772   0.05082   0.04532    0.1439         1       640: 100% 114/114 [01:28<00:00,  1.29it/s]\n",
            "               Class      Images     Targets           P           R      mAP@.5  mAP@.5:.95: 100% 13/13 [00:02<00:00,  5.39it/s]\n",
            "                 all          51          51      0.0127      0.0827      0.0278      0.0053\n",
            "\n",
            "     Epoch   gpu_mem      GIoU       obj       cls     total   targets  img_size\n",
            "       4/9     9.23G   0.04583   0.04908   0.04503    0.1399         4       640: 100% 114/114 [01:28<00:00,  1.29it/s]\n",
            "               Class      Images     Targets           P           R      mAP@.5  mAP@.5:.95: 100% 13/13 [00:02<00:00,  5.42it/s]\n",
            "                 all          51          51      0.0447       0.052      0.0569      0.0129\n",
            "\n",
            "     Epoch   gpu_mem      GIoU       obj       cls     total   targets  img_size\n",
            "       5/9     9.23G   0.04253   0.04773    0.0427    0.1329         1       640: 100% 114/114 [01:28<00:00,  1.29it/s]\n",
            "               Class      Images     Targets           P           R      mAP@.5  mAP@.5:.95: 100% 13/13 [00:02<00:00,  5.38it/s]\n",
            "                 all          51          51      0.0243      0.0298      0.0502      0.0133\n",
            "\n",
            "     Epoch   gpu_mem      GIoU       obj       cls     total   targets  img_size\n",
            "       6/9     9.23G   0.04221   0.04697    0.0429    0.1321         2       640: 100% 114/114 [01:27<00:00,  1.30it/s]\n",
            "               Class      Images     Targets           P           R      mAP@.5  mAP@.5:.95: 100% 13/13 [00:02<00:00,  5.50it/s]\n",
            "                 all          51          51       0.121      0.0668       0.131      0.0451\n",
            "\n",
            "     Epoch   gpu_mem      GIoU       obj       cls     total   targets  img_size\n",
            "       7/9     9.23G   0.03864   0.05024    0.0415    0.1304         4       640: 100% 114/114 [01:27<00:00,  1.30it/s]\n",
            "               Class      Images     Targets           P           R      mAP@.5  mAP@.5:.95: 100% 13/13 [00:02<00:00,  5.41it/s]\n",
            "                 all          51          51       0.103       0.222       0.176      0.0654\n",
            "\n",
            "     Epoch   gpu_mem      GIoU       obj       cls     total   targets  img_size\n",
            "       8/9     9.23G   0.03678   0.04784   0.04101    0.1256         3       640: 100% 114/114 [01:27<00:00,  1.30it/s]\n",
            "               Class      Images     Targets           P           R      mAP@.5  mAP@.5:.95: 100% 13/13 [00:02<00:00,  5.46it/s]\n",
            "                 all          51          51      0.0954       0.239        0.15      0.0682\n",
            "\n",
            "     Epoch   gpu_mem      GIoU       obj       cls     total   targets  img_size\n",
            "       9/9     9.23G   0.03676   0.04784   0.04092    0.1255         4       640: 100% 114/114 [01:27<00:00,  1.30it/s]\n",
            "               Class      Images     Targets           P           R      mAP@.5  mAP@.5:.95: 100% 13/13 [00:02<00:00,  5.39it/s]\n",
            "                 all          51          51       0.199       0.143       0.187       0.066\n",
            "Optimizer stripped from weights/last_yolov5x_clothing.pt\n",
            "Optimizer stripped from weights/best_yolov5x_clothing.pt\n",
            "10 epochs completed in 0.267 hours.\n",
            "\n"
          ],
          "name": "stdout"
        }
      ]
    },
    {
      "cell_type": "markdown",
      "metadata": {
        "id": "5qftF9rOg4Hg"
      },
      "source": [
        "The training took around 0.267 hours on Tesla P100. The best model checkpoint is saved to `weights/best_yolov5x_clothing.pt`."
      ]
    }
  ]
}